{
 "cells": [
  {
   "cell_type": "markdown",
   "id": "6f01df42-b698-42e7-b6a5-f89a60a6f597",
   "metadata": {},
   "source": [
    "# Audible Insights: Book Recommendation System"
   ]
  },
  {
   "cell_type": "markdown",
   "id": "941f2095-fac5-4f41-bc57-20aaae6fb0fe",
   "metadata": {},
   "source": [
    "## NLP and Clustering"
   ]
  },
  {
   "cell_type": "markdown",
   "id": "34baf78b-417a-4bad-871e-87bf836b240b",
   "metadata": {},
   "source": [
    "### Importing Libraries"
   ]
  },
  {
   "cell_type": "code",
   "execution_count": 20,
   "id": "0ca086f6-55cd-4d42-8e63-eaac912245a4",
   "metadata": {},
   "outputs": [
    {
     "name": "stderr",
     "output_type": "stream",
     "text": [
      "[nltk_data] Downloading package stopwords to\n",
      "[nltk_data]     C:\\Users\\user\\AppData\\Roaming\\nltk_data...\n",
      "[nltk_data]   Package stopwords is already up-to-date!\n",
      "[nltk_data] Downloading package punkt to\n",
      "[nltk_data]     C:\\Users\\user\\AppData\\Roaming\\nltk_data...\n",
      "[nltk_data]   Package punkt is already up-to-date!\n",
      "[nltk_data] Downloading package wordnet to\n",
      "[nltk_data]     C:\\Users\\user\\AppData\\Roaming\\nltk_data...\n",
      "[nltk_data]   Package wordnet is already up-to-date!\n"
     ]
    },
    {
     "data": {
      "text/plain": [
       "True"
      ]
     },
     "execution_count": 20,
     "metadata": {},
     "output_type": "execute_result"
    }
   ],
   "source": [
    "import nltk\n",
    "nltk.download('stopwords')\n",
    "nltk.download('punkt')\n",
    "nltk.download('wordnet')\n"
   ]
  },
  {
   "cell_type": "markdown",
   "id": "225a6f52-8fe2-4c41-be52-33a47193fb2b",
   "metadata": {},
   "source": [
    "Imports the NLTK Library and downloads essential resources\n",
    "\n",
    "* stopwords: Common words to filter out from text (like \"the\", \"and\")\n",
    "* punkt: Tokenizer model to split text into words/sentences\n",
    "* wordnet: Lexical database used for lemmatization"
   ]
  },
  {
   "cell_type": "code",
   "execution_count": 21,
   "id": "00a3dc04-329e-4fd8-a7bc-c66e5c796c70",
   "metadata": {},
   "outputs": [],
   "source": [
    "import pandas as pd\n",
    "from sklearn.feature_extraction.text import TfidfVectorizer\n",
    "from sklearn.cluster import KMeans\n",
    "from sklearn.decomposition import PCA\n",
    "import matplotlib.pyplot as plt\n",
    "import seaborn as sns\n",
    "from nltk.corpus import stopwords\n",
    "from nltk.tokenize import word_tokenize\n",
    "from nltk.stem import WordNetLemmatizer\n"
   ]
  },
  {
   "cell_type": "markdown",
   "id": "5824eda4-a3ac-457a-b1f9-b09f439fc2b0",
   "metadata": {},
   "source": [
    "Imports all necessary Python libraries for \n",
    "\n",
    "* Data processing (pandas)\n",
    "* Text vectorization (TfidfVectorizer)\n",
    "* Clustering (KMeans)\n",
    "* Dimensionality reduction (PCA)\n",
    "* Visualization (matplotlib, seaborn)\n",
    "* NLP tasks (stopwords, word_tokenize, WordNetLemmatizer)\n",
    "\n"
   ]
  },
  {
   "cell_type": "code",
   "execution_count": 22,
   "id": "5231bf1e-3c39-43a0-969b-6d3c9faf00de",
   "metadata": {},
   "outputs": [],
   "source": [
    "df = pd.read_csv('cleaned_data.csv')"
   ]
  },
  {
   "cell_type": "markdown",
   "id": "1554fcee-3f97-49e5-af6c-0dd733fb5ccc",
   "metadata": {},
   "source": [
    "Loads the preprocessed Audible dataset('cleaned_data.csv') into a dataframe named df"
   ]
  },
  {
   "cell_type": "code",
   "execution_count": 23,
   "id": "5cd294c9-6b14-4e64-8b9e-d634fcb7037b",
   "metadata": {},
   "outputs": [
    {
     "data": {
      "text/html": [
       "<div>\n",
       "<style scoped>\n",
       "    .dataframe tbody tr th:only-of-type {\n",
       "        vertical-align: middle;\n",
       "    }\n",
       "\n",
       "    .dataframe tbody tr th {\n",
       "        vertical-align: top;\n",
       "    }\n",
       "\n",
       "    .dataframe thead th {\n",
       "        text-align: right;\n",
       "    }\n",
       "</style>\n",
       "<table border=\"1\" class=\"dataframe\">\n",
       "  <thead>\n",
       "    <tr style=\"text-align: right;\">\n",
       "      <th></th>\n",
       "      <th>Book Name</th>\n",
       "      <th>Author</th>\n",
       "      <th>Description</th>\n",
       "      <th>Rating</th>\n",
       "      <th>Number of Reviews</th>\n",
       "      <th>Price</th>\n",
       "      <th>Listening Time (Minutes)</th>\n",
       "      <th>Rank</th>\n",
       "      <th>Genre</th>\n",
       "    </tr>\n",
       "  </thead>\n",
       "  <tbody>\n",
       "    <tr>\n",
       "      <th>0</th>\n",
       "      <td>Think Like a Monk: The Secret of How to Harnes...</td>\n",
       "      <td>Jay Shetty</td>\n",
       "      <td>Over the past three years, Jay Shetty has beco...</td>\n",
       "      <td>4.9</td>\n",
       "      <td>342.0</td>\n",
       "      <td>10080.0</td>\n",
       "      <td>654.0</td>\n",
       "      <td>1</td>\n",
       "      <td>Society &amp; Culture (Books)</td>\n",
       "    </tr>\n",
       "    <tr>\n",
       "      <th>1</th>\n",
       "      <td>Ikigai: The Japanese Secret to a Long and Happ...</td>\n",
       "      <td>Héctor García</td>\n",
       "      <td>Brought to you by Penguin.</td>\n",
       "      <td>4.6</td>\n",
       "      <td>3670.0</td>\n",
       "      <td>615.0</td>\n",
       "      <td>203.0</td>\n",
       "      <td>2</td>\n",
       "      <td>Personal Success</td>\n",
       "    </tr>\n",
       "    <tr>\n",
       "      <th>2</th>\n",
       "      <td>The Subtle Art of Not Giving a F*ck: A Counter...</td>\n",
       "      <td>Mark Manson</td>\n",
       "      <td>In this generation-defining self-help guide, a...</td>\n",
       "      <td>4.4</td>\n",
       "      <td>20240.0</td>\n",
       "      <td>10378.0</td>\n",
       "      <td>317.0</td>\n",
       "      <td>3</td>\n",
       "      <td>Personal Development &amp; Self-Help</td>\n",
       "    </tr>\n",
       "    <tr>\n",
       "      <th>3</th>\n",
       "      <td>Atomic Habits: An Easy and Proven Way to Build...</td>\n",
       "      <td>James Clear</td>\n",
       "      <td>Brought to you by Penguin.</td>\n",
       "      <td>4.6</td>\n",
       "      <td>4646.0</td>\n",
       "      <td>888.0</td>\n",
       "      <td>335.0</td>\n",
       "      <td>5</td>\n",
       "      <td>Personal Success</td>\n",
       "    </tr>\n",
       "    <tr>\n",
       "      <th>4</th>\n",
       "      <td>Life's Amazing Secrets: How to Find Balance an...</td>\n",
       "      <td>Gaur Gopal Das</td>\n",
       "      <td>Stop going through life,  Start growing throug...</td>\n",
       "      <td>4.6</td>\n",
       "      <td>4305.0</td>\n",
       "      <td>1005.0</td>\n",
       "      <td>385.0</td>\n",
       "      <td>6</td>\n",
       "      <td>Spiritualism</td>\n",
       "    </tr>\n",
       "  </tbody>\n",
       "</table>\n",
       "</div>"
      ],
      "text/plain": [
       "                                           Book Name          Author  \\\n",
       "0  Think Like a Monk: The Secret of How to Harnes...      Jay Shetty   \n",
       "1  Ikigai: The Japanese Secret to a Long and Happ...   Héctor García   \n",
       "2  The Subtle Art of Not Giving a F*ck: A Counter...     Mark Manson   \n",
       "3  Atomic Habits: An Easy and Proven Way to Build...     James Clear   \n",
       "4  Life's Amazing Secrets: How to Find Balance an...  Gaur Gopal Das   \n",
       "\n",
       "                                         Description  Rating  \\\n",
       "0  Over the past three years, Jay Shetty has beco...     4.9   \n",
       "1                         Brought to you by Penguin.     4.6   \n",
       "2  In this generation-defining self-help guide, a...     4.4   \n",
       "3                         Brought to you by Penguin.     4.6   \n",
       "4  Stop going through life,  Start growing throug...     4.6   \n",
       "\n",
       "   Number of Reviews    Price  Listening Time (Minutes)  Rank  \\\n",
       "0              342.0  10080.0                     654.0     1   \n",
       "1             3670.0    615.0                     203.0     2   \n",
       "2            20240.0  10378.0                     317.0     3   \n",
       "3             4646.0    888.0                     335.0     5   \n",
       "4             4305.0   1005.0                     385.0     6   \n",
       "\n",
       "                              Genre  \n",
       "0         Society & Culture (Books)  \n",
       "1                  Personal Success  \n",
       "2  Personal Development & Self-Help  \n",
       "3                  Personal Success  \n",
       "4                      Spiritualism  "
      ]
     },
     "execution_count": 23,
     "metadata": {},
     "output_type": "execute_result"
    }
   ],
   "source": [
    "df.head()"
   ]
  },
  {
   "cell_type": "markdown",
   "id": "e98425eb-2b8b-4a6a-bc40-a88aa96f0142",
   "metadata": {},
   "source": [
    "Displays the first 5 rows of the DataFrame to give an overview of the dataset structure."
   ]
  },
  {
   "cell_type": "code",
   "execution_count": 24,
   "id": "77e343d1-4192-40e7-b72e-577f56b1edd7",
   "metadata": {},
   "outputs": [
    {
     "name": "stdout",
     "output_type": "stream",
     "text": [
      "<class 'pandas.core.frame.DataFrame'>\n",
      "RangeIndex: 1642 entries, 0 to 1641\n",
      "Data columns (total 9 columns):\n",
      " #   Column                    Non-Null Count  Dtype  \n",
      "---  ------                    --------------  -----  \n",
      " 0   Book Name                 1642 non-null   object \n",
      " 1   Author                    1642 non-null   object \n",
      " 2   Description               1642 non-null   object \n",
      " 3   Rating                    1642 non-null   float64\n",
      " 4   Number of Reviews         1642 non-null   float64\n",
      " 5   Price                     1642 non-null   float64\n",
      " 6   Listening Time (Minutes)  1642 non-null   float64\n",
      " 7   Rank                      1642 non-null   int64  \n",
      " 8   Genre                     1642 non-null   object \n",
      "dtypes: float64(4), int64(1), object(4)\n",
      "memory usage: 115.6+ KB\n"
     ]
    }
   ],
   "source": [
    "df.info()"
   ]
  },
  {
   "cell_type": "markdown",
   "id": "51842438-fe21-40d8-8433-137ba7e16915",
   "metadata": {},
   "source": [
    "Displays a summary of the dataset, including column names, non-null counts, and data types — helpful for understanding structure and missing values."
   ]
  },
  {
   "cell_type": "code",
   "execution_count": 25,
   "id": "e89dbfad-b2b6-4398-a685-71c7baea16f5",
   "metadata": {},
   "outputs": [
    {
     "data": {
      "text/plain": [
       "0"
      ]
     },
     "execution_count": 25,
     "metadata": {},
     "output_type": "execute_result"
    }
   ],
   "source": [
    "df.duplicated().sum()"
   ]
  },
  {
   "cell_type": "markdown",
   "id": "992d1b8f-d8f6-4240-9d84-be8b6426f75a",
   "metadata": {},
   "source": [
    "Checks for duplicate rows in the dataset. It returns the total number of duplicates found."
   ]
  },
  {
   "cell_type": "code",
   "execution_count": 26,
   "id": "3293317d-18db-4d29-b37a-9a6f872ddb1f",
   "metadata": {},
   "outputs": [
    {
     "data": {
      "text/plain": [
       "Book Name                   0\n",
       "Author                      0\n",
       "Description                 0\n",
       "Rating                      0\n",
       "Number of Reviews           0\n",
       "Price                       0\n",
       "Listening Time (Minutes)    0\n",
       "Rank                        0\n",
       "Genre                       0\n",
       "dtype: int64"
      ]
     },
     "execution_count": 26,
     "metadata": {},
     "output_type": "execute_result"
    }
   ],
   "source": [
    "df.isnull().sum()"
   ]
  },
  {
   "cell_type": "markdown",
   "id": "5545fc56-1c87-4e4b-9d47-e9cd9478a45a",
   "metadata": {},
   "source": [
    "Checks for missing values in each column. It helps decide whether data cleaning is required."
   ]
  },
  {
   "cell_type": "code",
   "execution_count": 27,
   "id": "5b1a9b6d-76c6-4d4b-9ff7-c97040f9fabe",
   "metadata": {},
   "outputs": [],
   "source": [
    "# Initialize stopwords & lemmatizer\n",
    "stop_words = set(stopwords.words('english'))\n",
    "lemmatizer = WordNetLemmatizer()\n",
    "\n",
    "def preprocess_text(text):\n",
    "\n",
    "    tokens = word_tokenize(text)  # Tokenize words\n",
    "    tokens = [lemmatizer.lemmatize(word) for word in tokens if word not in stop_words]  # Lemmatization & stopword removal\n",
    "    return \" \".join(tokens)\n",
    "    \n",
    "# Apply preprocessing\n",
    "df['Processed_Description'] = df['Description'].apply(preprocess_text)\n",
    "\n",
    "   "
   ]
  },
  {
   "cell_type": "markdown",
   "id": "757e865e-5517-4458-a5a6-6a24cc406477",
   "metadata": {},
   "source": [
    "Defines a custom text preprocessing function that\n",
    "* Tokenize text into words\n",
    "* Removes stopwords\n",
    "* Applies lemmatization\n",
    "  \n",
    "Then this function is applied to the 'Description' column to create a cleaned text column called 'Processed_Description'."
   ]
  },
  {
   "cell_type": "code",
   "execution_count": 28,
   "id": "ee63cff7-c8a4-4120-acce-fb309ebe9052",
   "metadata": {},
   "outputs": [
    {
     "data": {
      "text/html": [
       "<div>\n",
       "<style scoped>\n",
       "    .dataframe tbody tr th:only-of-type {\n",
       "        vertical-align: middle;\n",
       "    }\n",
       "\n",
       "    .dataframe tbody tr th {\n",
       "        vertical-align: top;\n",
       "    }\n",
       "\n",
       "    .dataframe thead th {\n",
       "        text-align: right;\n",
       "    }\n",
       "</style>\n",
       "<table border=\"1\" class=\"dataframe\">\n",
       "  <thead>\n",
       "    <tr style=\"text-align: right;\">\n",
       "      <th></th>\n",
       "      <th>Description</th>\n",
       "      <th>Processed_Description</th>\n",
       "    </tr>\n",
       "  </thead>\n",
       "  <tbody>\n",
       "    <tr>\n",
       "      <th>0</th>\n",
       "      <td>Over the past three years, Jay Shetty has beco...</td>\n",
       "      <td>Over past three year , Jay Shetty become one w...</td>\n",
       "    </tr>\n",
       "    <tr>\n",
       "      <th>1</th>\n",
       "      <td>Brought to you by Penguin.</td>\n",
       "      <td>Brought Penguin .</td>\n",
       "    </tr>\n",
       "    <tr>\n",
       "      <th>2</th>\n",
       "      <td>In this generation-defining self-help guide, a...</td>\n",
       "      <td>In generation-defining self-help guide , super...</td>\n",
       "    </tr>\n",
       "    <tr>\n",
       "      <th>3</th>\n",
       "      <td>Brought to you by Penguin.</td>\n",
       "      <td>Brought Penguin .</td>\n",
       "    </tr>\n",
       "    <tr>\n",
       "      <th>4</th>\n",
       "      <td>Stop going through life,  Start growing throug...</td>\n",
       "      <td>Stop going life , Start growing life !</td>\n",
       "    </tr>\n",
       "  </tbody>\n",
       "</table>\n",
       "</div>"
      ],
      "text/plain": [
       "                                         Description  \\\n",
       "0  Over the past three years, Jay Shetty has beco...   \n",
       "1                         Brought to you by Penguin.   \n",
       "2  In this generation-defining self-help guide, a...   \n",
       "3                         Brought to you by Penguin.   \n",
       "4  Stop going through life,  Start growing throug...   \n",
       "\n",
       "                               Processed_Description  \n",
       "0  Over past three year , Jay Shetty become one w...  \n",
       "1                                  Brought Penguin .  \n",
       "2  In generation-defining self-help guide , super...  \n",
       "3                                  Brought Penguin .  \n",
       "4             Stop going life , Start growing life !  "
      ]
     },
     "execution_count": 28,
     "metadata": {},
     "output_type": "execute_result"
    }
   ],
   "source": [
    "# Check cleaned text\n",
    "df[['Description', 'Processed_Description']].head(5)"
   ]
  },
  {
   "cell_type": "markdown",
   "id": "e46d7b06-e387-4e16-b856-777e93ce3e55",
   "metadata": {},
   "source": [
    "Displays the original and preprocessed text for the first 5 entries to verify the effectiveness of preprocessing."
   ]
  },
  {
   "cell_type": "code",
   "execution_count": 29,
   "id": "1368ed03-b435-447a-9f30-fdc66a7fa2e1",
   "metadata": {},
   "outputs": [],
   "source": [
    "## Vectorizing text using TF-IDF\n",
    "tfidf_vectorizer = TfidfVectorizer(max_features=1000)\n",
    "tfidf_matrix = tfidf_vectorizer.fit_transform(df['Processed_Description'])"
   ]
  },
  {
   "cell_type": "markdown",
   "id": "d2d77ca1-92ce-4242-b583-2f51a23a3d8d",
   "metadata": {},
   "source": [
    "Performs **TF-IDF vectorization** (Term Frequency-Inverse Document Frequency) to convert text into a numeric matrix\n",
    "* `TfidfVectorizer(max_features=1000)` - creates a vectorizer that considers the top 1000 most important words across all documents.\n",
    "* `fit_transform(...)` - fits the vectorizer on the processed text and transforms it into a **TF-IDF feature matrix** called `tfidf_matrix`."
   ]
  },
  {
   "cell_type": "code",
   "execution_count": 30,
   "id": "f1613dd3-513d-4d6d-b371-4812dd06fa5a",
   "metadata": {},
   "outputs": [],
   "source": [
    "# K-Means clustering\n",
    "kmeans = KMeans(n_clusters=5, random_state=42)\n",
    "df['cluster'] = kmeans.fit_predict(tfidf_matrix)\n"
   ]
  },
  {
   "cell_type": "markdown",
   "id": "a3b692f8-2f16-45cb-be65-f9725a01270d",
   "metadata": {},
   "source": [
    "Applies **K-Means clustering** to group the book into 5 distinct clusters based on their TF-IDF vectorized descriptions.\n",
    "* `KMeans(n_clusters=5, random_state=42)` - initializes the K-Means algorithm to create 5 clusters. random_state  ensures reproducibility.\n",
    "* `fit_predict(tfidf_matrix)` - Fits the clustering model on the TF-IDF feature matrix and assigns each book to a cluster.\n",
    "* `df['cluster'] = ...` - saves the cluster labels into a new column in the DataFrame for further analysis or visualization."
   ]
  },
  {
   "cell_type": "code",
   "execution_count": 31,
   "id": "f7ed7ec0-e966-4472-bacf-9d98de26c96f",
   "metadata": {},
   "outputs": [
    {
     "name": "stdout",
     "output_type": "stream",
     "text": [
      "\n",
      " Top keywords in Cluster 0:\n",
      "the, book, best, selling, new, times, author, york, seller, one\n",
      "\n",
      " Top keywords in Cluster 1:\n",
      "life, one, world, story, the, in, work, time, people, year\n",
      "\n",
      " Top keywords in Cluster 2:\n",
      "brought, penguin, puffin, your, finding, first, five, flow, focus, follow\n",
      "\n",
      " Top keywords in Cluster 3:\n",
      "audible, payment, terms, completing, recurring, privacy, conditions, agree, notice, applicable\n",
      "\n",
      " Top keywords in Cluster 4:\n",
      "edition, present, audiobook, read, penguin, random, house, written, downloadable, the\n"
     ]
    }
   ],
   "source": [
    "## Extract Top Keywords for Each Cluster\n",
    "\n",
    "from numpy import array\n",
    "\n",
    "feature_names = tfidf_vectorizer.get_feature_names_out()\n",
    "\n",
    "for i in range(5):  # Loop through each cluster\n",
    "    print(f\"\\n Top keywords in Cluster {i}:\")\n",
    "    \n",
    "    # Get all indices for current cluster\n",
    "    cluster_indices = df[df['cluster'] == i].index\n",
    "    \n",
    "    # Calculate average TF-IDF for the cluster\n",
    "    cluster_tfidf = tfidf_matrix[cluster_indices].mean(axis=0).A1  # .A1 converts to flat array\n",
    "    \n",
    "    # Get top 10 feature indices\n",
    "    top_indices = cluster_tfidf.argsort()[-10:][::-1]\n",
    "    \n",
    "    # Extract top keywords\n",
    "    top_keywords = [feature_names[idx] for idx in top_indices]\n",
    "    \n",
    "    print(\", \".join(top_keywords))\n",
    "\n"
   ]
  },
  {
   "cell_type": "markdown",
   "id": "d965126f-900d-4b56-8188-bbd920c589be",
   "metadata": {},
   "source": [
    "Using TF-IDF and KMeans clustering, Audible book descriptions are grouped into 5 clusters. The interpretation of each cluster based on the most representative keywords are below:\n",
    "\n",
    "##### 🔴 Cluster 0: **Bestsellers / Mainstream Popular Titles**\n",
    "**Top Keywords:** the, book, best, selling, new, times, author, york, seller, one  \n",
    "**Interpretation:**  \n",
    "This cluster likely groups highly popular books, often bestsellers from **The New York Times** or similar lists. These books are widely read and frequently marketed.\n",
    "\n",
    "##### 🔵 Cluster 1: **Biographical / Inspirational Stories**\n",
    "**Top Keywords:** life, one, world, story, the, in, work, time, people, year  \n",
    "**Interpretation:**  \n",
    "This group appears to include **personal journeys, memoirs, or life stories** that span experiences, work, and reflections across time.\n",
    "\n",
    "##### 🟢 Cluster 2: **Mindfulness / Self-Help**\n",
    "**Top Keywords:** brought, penguin, puffin, your, finding, first, five, flow, focus, follow  \n",
    "**Interpretation:**  \n",
    "This cluster includes books from publishers like **Penguin/Puffin** and leans toward **self-improvement**, focus, and personal growth.\n",
    "\n",
    "##### 🟣 Cluster 3: **Legal / Subscription Policy Texts**\n",
    "**Top Keywords:** audible, payment, terms, completing, recurring, privacy, conditions, agree, notice, applicable  \n",
    "**Interpretation:**  \n",
    "This cluster is likely capturing **non-book content**, such as **Audible subscription policy**, privacy terms, or licensing agreements accidentally included in the dataset.\n",
    "\n",
    "##### 🟠 Cluster 4: **Audiobook Metadata / Publisher Notes**\n",
    "**Top Keywords:** edition, present, audiobook, read, penguin, random, house, written, downloadable, the  \n",
    "**Interpretation:**  \n",
    "Books in this cluster may be **metadata-heavy entries** (e.g., edition notes, narrator mentions, publisher blurbs like Penguin Random House) rather than true descriptions.\n",
    "\n"
   ]
  },
  {
   "cell_type": "code",
   "execution_count": 32,
   "id": "7b41e284-03b0-43bc-9e2c-0d6ba73c285a",
   "metadata": {},
   "outputs": [
    {
     "name": "stdout",
     "output_type": "stream",
     "text": [
      "Original TF-IDF Shape: (1642, 1000)\n",
      "Reduced Shape: (1642, 2)\n"
     ]
    }
   ],
   "source": [
    "# Reducing Dimensions with PCA\n",
    "pca = PCA(n_components=2) \n",
    "tfidf_reduced = pca.fit_transform(tfidf_matrix.toarray())\n",
    "\n",
    "print(\"Original TF-IDF Shape:\", tfidf_matrix.shape)\n",
    "print(\"Reduced Shape:\", tfidf_reduced.shape)"
   ]
  },
  {
   "cell_type": "markdown",
   "id": "90e88b63-f549-4653-81e8-5c08a8f7c533",
   "metadata": {},
   "source": [
    "Reduces the dimensionality of the TF-IDF matrix using **PCA**(Principal Component Analysis)\n",
    "* `PCA(n_components=2)` - Initializes PCA to reduce the feature space to 2 dimensions which is ideal for 2D plotting\n",
    "* `fit_transform(tfidf_matrix.toarray())` - Converts the sparse matirx to a dense array and reduces it to 2 principal components.\n",
    "* `print(...)` - outputs the original and reduced shapes to confirm the dimensionality change.\n",
    "\n",
    "Essential for visualizing high-dimensional TF-IDF vectors in a 2D scatter plot."
   ]
  },
  {
   "cell_type": "code",
   "execution_count": 33,
   "id": "c70b73b4-fb23-4c7a-aab4-ec215d34d5b5",
   "metadata": {},
   "outputs": [
    {
     "data": {
      "image/png": "[encoded data removed]",
      "text/plain": [
       "<Figure size 1000x600 with 1 Axes>"
      ]
     },
     "metadata": {},
     "output_type": "display_data"
    }
   ],
   "source": [
    "plt.figure(figsize=(10, 6))\n",
    "sns.scatterplot(\n",
    "    x=tfidf_reduced[:, 0],\n",
    "    y=tfidf_reduced[:, 1],\n",
    "    hue=df['cluster'],\n",
    "    palette='Set1',\n",
    "    s=60, edgecolor='k'  # Optional: larger points with border\n",
    ")\n",
    "plt.title('Book Clusters based on Descriptions', fontsize=14)\n",
    "plt.xlabel('PCA Component 1')\n",
    "plt.ylabel('PCA Component 2')\n",
    "plt.legend(title='Cluster')\n",
    "plt.grid(True)\n",
    "plt.show()\n"
   ]
  },
  {
   "cell_type": "markdown",
   "id": "3ecbb6fb-953b-4af9-8bdc-9c668cd1f76f",
   "metadata": {},
   "source": [
    "The above scatter plot visualizes the clusters of books based on their processed descriptions.\n",
    "\n",
    "- **Color Coding**: Each color represents a different cluster (Cluster 0 to Cluster 4), as determined by the KMeans algorithm.\n",
    "- **Insights**:\n",
    "  - Clusters are tightly packed in the bottom-left region, indicating many books share similar language features.\n",
    "  - Outlier points (farther away) may indicate unique or distinct content.\n",
    "  - This plot helps us **visually distinguish the semantic groupings** of books based on their descriptions.\n",
    "\n"
   ]
  },
  {
   "cell_type": "code",
   "execution_count": 34,
   "id": "3c000600-16ec-41a2-88f2-ca88e8a45609",
   "metadata": {},
   "outputs": [
    {
     "data": {
      "text/html": [
       "<div>\n",
       "<style scoped>\n",
       "    .dataframe tbody tr th:only-of-type {\n",
       "        vertical-align: middle;\n",
       "    }\n",
       "\n",
       "    .dataframe tbody tr th {\n",
       "        vertical-align: top;\n",
       "    }\n",
       "\n",
       "    .dataframe thead th {\n",
       "        text-align: right;\n",
       "    }\n",
       "</style>\n",
       "<table border=\"1\" class=\"dataframe\">\n",
       "  <thead>\n",
       "    <tr style=\"text-align: right;\">\n",
       "      <th></th>\n",
       "      <th>Book Name</th>\n",
       "      <th>Author</th>\n",
       "      <th>Description</th>\n",
       "      <th>Rating</th>\n",
       "      <th>Number of Reviews</th>\n",
       "      <th>Price</th>\n",
       "      <th>Listening Time (Minutes)</th>\n",
       "      <th>Rank</th>\n",
       "      <th>Genre</th>\n",
       "      <th>Processed_Description</th>\n",
       "      <th>cluster</th>\n",
       "    </tr>\n",
       "  </thead>\n",
       "  <tbody>\n",
       "    <tr>\n",
       "      <th>0</th>\n",
       "      <td>Think Like a Monk: The Secret of How to Harnes...</td>\n",
       "      <td>Jay Shetty</td>\n",
       "      <td>Over the past three years, Jay Shetty has beco...</td>\n",
       "      <td>4.9</td>\n",
       "      <td>342.0</td>\n",
       "      <td>10080.0</td>\n",
       "      <td>654.0</td>\n",
       "      <td>1</td>\n",
       "      <td>Society &amp; Culture (Books)</td>\n",
       "      <td>Over past three year , Jay Shetty become one w...</td>\n",
       "      <td>1</td>\n",
       "    </tr>\n",
       "    <tr>\n",
       "      <th>1</th>\n",
       "      <td>Ikigai: The Japanese Secret to a Long and Happ...</td>\n",
       "      <td>Héctor García</td>\n",
       "      <td>Brought to you by Penguin.</td>\n",
       "      <td>4.6</td>\n",
       "      <td>3670.0</td>\n",
       "      <td>615.0</td>\n",
       "      <td>203.0</td>\n",
       "      <td>2</td>\n",
       "      <td>Personal Success</td>\n",
       "      <td>Brought Penguin .</td>\n",
       "      <td>2</td>\n",
       "    </tr>\n",
       "    <tr>\n",
       "      <th>2</th>\n",
       "      <td>The Subtle Art of Not Giving a F*ck: A Counter...</td>\n",
       "      <td>Mark Manson</td>\n",
       "      <td>In this generation-defining self-help guide, a...</td>\n",
       "      <td>4.4</td>\n",
       "      <td>20240.0</td>\n",
       "      <td>10378.0</td>\n",
       "      <td>317.0</td>\n",
       "      <td>3</td>\n",
       "      <td>Personal Development &amp; Self-Help</td>\n",
       "      <td>In generation-defining self-help guide , super...</td>\n",
       "      <td>1</td>\n",
       "    </tr>\n",
       "    <tr>\n",
       "      <th>3</th>\n",
       "      <td>Atomic Habits: An Easy and Proven Way to Build...</td>\n",
       "      <td>James Clear</td>\n",
       "      <td>Brought to you by Penguin.</td>\n",
       "      <td>4.6</td>\n",
       "      <td>4646.0</td>\n",
       "      <td>888.0</td>\n",
       "      <td>335.0</td>\n",
       "      <td>5</td>\n",
       "      <td>Personal Success</td>\n",
       "      <td>Brought Penguin .</td>\n",
       "      <td>2</td>\n",
       "    </tr>\n",
       "    <tr>\n",
       "      <th>4</th>\n",
       "      <td>Life's Amazing Secrets: How to Find Balance an...</td>\n",
       "      <td>Gaur Gopal Das</td>\n",
       "      <td>Stop going through life,  Start growing throug...</td>\n",
       "      <td>4.6</td>\n",
       "      <td>4305.0</td>\n",
       "      <td>1005.0</td>\n",
       "      <td>385.0</td>\n",
       "      <td>6</td>\n",
       "      <td>Spiritualism</td>\n",
       "      <td>Stop going life , Start growing life !</td>\n",
       "      <td>1</td>\n",
       "    </tr>\n",
       "  </tbody>\n",
       "</table>\n",
       "</div>"
      ],
      "text/plain": [
       "                                           Book Name          Author  \\\n",
       "0  Think Like a Monk: The Secret of How to Harnes...      Jay Shetty   \n",
       "1  Ikigai: The Japanese Secret to a Long and Happ...   Héctor García   \n",
       "2  The Subtle Art of Not Giving a F*ck: A Counter...     Mark Manson   \n",
       "3  Atomic Habits: An Easy and Proven Way to Build...     James Clear   \n",
       "4  Life's Amazing Secrets: How to Find Balance an...  Gaur Gopal Das   \n",
       "\n",
       "                                         Description  Rating  \\\n",
       "0  Over the past three years, Jay Shetty has beco...     4.9   \n",
       "1                         Brought to you by Penguin.     4.6   \n",
       "2  In this generation-defining self-help guide, a...     4.4   \n",
       "3                         Brought to you by Penguin.     4.6   \n",
       "4  Stop going through life,  Start growing throug...     4.6   \n",
       "\n",
       "   Number of Reviews    Price  Listening Time (Minutes)  Rank  \\\n",
       "0              342.0  10080.0                     654.0     1   \n",
       "1             3670.0    615.0                     203.0     2   \n",
       "2            20240.0  10378.0                     317.0     3   \n",
       "3             4646.0    888.0                     335.0     5   \n",
       "4             4305.0   1005.0                     385.0     6   \n",
       "\n",
       "                              Genre  \\\n",
       "0         Society & Culture (Books)   \n",
       "1                  Personal Success   \n",
       "2  Personal Development & Self-Help   \n",
       "3                  Personal Success   \n",
       "4                      Spiritualism   \n",
       "\n",
       "                               Processed_Description  cluster  \n",
       "0  Over past three year , Jay Shetty become one w...        1  \n",
       "1                                  Brought Penguin .        2  \n",
       "2  In generation-defining self-help guide , super...        1  \n",
       "3                                  Brought Penguin .        2  \n",
       "4             Stop going life , Start growing life !        1  "
      ]
     },
     "execution_count": 34,
     "metadata": {},
     "output_type": "execute_result"
    }
   ],
   "source": [
    "df.head()"
   ]
  },
  {
   "cell_type": "code",
   "execution_count": 35,
   "id": "94a08492-1c93-42d5-b1da-1a9035b39f58",
   "metadata": {},
   "outputs": [
    {
     "data": {
      "text/plain": [
       "Index(['Book Name', 'Author', 'Description', 'Rating', 'Number of Reviews',\n",
       "       'Price', 'Listening Time (Minutes)', 'Rank', 'Genre',\n",
       "       'Processed_Description', 'cluster'],\n",
       "      dtype='object')"
      ]
     },
     "execution_count": 35,
     "metadata": {},
     "output_type": "execute_result"
    }
   ],
   "source": [
    "df.columns"
   ]
  },
  {
   "cell_type": "markdown",
   "id": "bb005bd6-aa39-4b08-9992-f051e088f10d",
   "metadata": {},
   "source": [
    "The dataset contains the above columns, each representing different attributes of the Audible books. \n",
    "The `Processed_Description` and `cluster` columns are engineered features created during the NLP and clustering pipeline."
   ]
  },
  {
   "cell_type": "code",
   "execution_count": 36,
   "id": "592f50c2-ae35-4b22-a475-5ccbfe6b834e",
   "metadata": {},
   "outputs": [],
   "source": [
    "df.drop(columns = ['Description'], inplace = True)"
   ]
  },
  {
   "cell_type": "markdown",
   "id": "e53291a3-a3bf-41e4-9c72-eb0123e6bef2",
   "metadata": {},
   "source": [
    "To streamline the dataset and avoid redundancy, dropping the original `Description` column "
   ]
  },
  {
   "cell_type": "code",
   "execution_count": 37,
   "id": "637043c3-ae32-48ec-8996-76b776412500",
   "metadata": {},
   "outputs": [
    {
     "name": "stdout",
     "output_type": "stream",
     "text": [
      "<class 'pandas.core.frame.DataFrame'>\n",
      "RangeIndex: 1642 entries, 0 to 1641\n",
      "Data columns (total 10 columns):\n",
      " #   Column                    Non-Null Count  Dtype  \n",
      "---  ------                    --------------  -----  \n",
      " 0   Book Name                 1642 non-null   object \n",
      " 1   Author                    1642 non-null   object \n",
      " 2   Rating                    1642 non-null   float64\n",
      " 3   Number of Reviews         1642 non-null   float64\n",
      " 4   Price                     1642 non-null   float64\n",
      " 5   Listening Time (Minutes)  1642 non-null   float64\n",
      " 6   Rank                      1642 non-null   int64  \n",
      " 7   Genre                     1642 non-null   object \n",
      " 8   Processed_Description     1642 non-null   object \n",
      " 9   cluster                   1642 non-null   int32  \n",
      "dtypes: float64(4), int32(1), int64(1), object(4)\n",
      "memory usage: 122.0+ KB\n"
     ]
    }
   ],
   "source": [
    "df.info()"
   ]
  },
  {
   "cell_type": "markdown",
   "id": "8e164a3d-8de9-4ac0-84d6-67751eb4fcf8",
   "metadata": {},
   "source": [
    "Now, the dataset contains **1,642 book entries** and **10 columns**, each representing key features for recommendation and analysis."
   ]
  },
  {
   "cell_type": "code",
   "execution_count": 38,
   "id": "ebf8246d-1ef6-480e-aad8-c5c446ac369a",
   "metadata": {},
   "outputs": [],
   "source": [
    "df.to_csv(\"books_clusters.csv\", index=False)"
   ]
  },
  {
   "cell_type": "markdown",
   "id": "9a5b6e4c-4c07-4633-a4e0-596f2329dd0d",
   "metadata": {},
   "source": [
    "After preprocessing and clustering, saving the cleaned and structured dataset to a CSV file `books_clusters.csv`"
   ]
  }
 ],
 "metadata": {
  "kernelspec": {
   "display_name": "Python 3 (ipykernel)",
   "language": "python",
   "name": "python3"
  },
  "language_info": {
   "codemirror_mode": {
    "name": "ipython",
    "version": 3
   },
   "file_extension": ".py",
   "mimetype": "text/x-python",
   "name": "python",
   "nbconvert_exporter": "python",
   "pygments_lexer": "ipython3",
   "version": "3.12.4"
  }
 },
 "nbformat": 4,
 "nbformat_minor": 5
}
