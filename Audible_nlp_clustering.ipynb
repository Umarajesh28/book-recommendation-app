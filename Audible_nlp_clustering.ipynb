{
 "cells": [
  {
   "cell_type": "markdown",
   "id": "6f01df42-b698-42e7-b6a5-f89a60a6f597",
   "metadata": {},
   "source": [
    "# Audible Insights: Book Recommendation System"
   ]
  },
  {
   "cell_type": "markdown",
   "id": "941f2095-fac5-4f41-bc57-20aaae6fb0fe",
   "metadata": {},
   "source": [
    "## NLP and Clustering"
   ]
  },
  {
   "cell_type": "markdown",
   "id": "34baf78b-417a-4bad-871e-87bf836b240b",
   "metadata": {},
   "source": [
    "### Importing Libraries"
   ]
  },
  {
   "cell_type": "code",
   "execution_count": 1,
   "id": "0ca086f6-55cd-4d42-8e63-eaac912245a4",
   "metadata": {},
   "outputs": [
    {
     "name": "stderr",
     "output_type": "stream",
     "text": [
      "[nltk_data] Downloading package stopwords to\n",
      "[nltk_data]     C:\\Users\\user\\AppData\\Roaming\\nltk_data...\n",
      "[nltk_data]   Unzipping corpora\\stopwords.zip.\n",
      "[nltk_data] Downloading package punkt to\n",
      "[nltk_data]     C:\\Users\\user\\AppData\\Roaming\\nltk_data...\n",
      "[nltk_data]   Package punkt is already up-to-date!\n",
      "[nltk_data] Downloading package wordnet to\n",
      "[nltk_data]     C:\\Users\\user\\AppData\\Roaming\\nltk_data...\n",
      "[nltk_data]   Package wordnet is already up-to-date!\n"
     ]
    },
    {
     "data": {
      "text/plain": [
       "True"
      ]
     },
     "execution_count": 1,
     "metadata": {},
     "output_type": "execute_result"
    }
   ],
   "source": [
    "import nltk\n",
    "nltk.download('stopwords')\n",
    "nltk.download('punkt')\n",
    "nltk.download('wordnet')\n"
   ]
  },
  {
   "cell_type": "code",
   "execution_count": 3,
   "id": "00a3dc04-329e-4fd8-a7bc-c66e5c796c70",
   "metadata": {},
   "outputs": [],
   "source": [
    "import pandas as pd\n",
    "from sklearn.feature_extraction.text import TfidfVectorizer\n",
    "from sklearn.cluster import KMeans\n",
    "from sklearn.decomposition import PCA\n",
    "import matplotlib.pyplot as plt\n",
    "import seaborn as sns\n",
    "from nltk.corpus import stopwords\n",
    "from nltk.tokenize import word_tokenize\n",
    "from nltk.stem import WordNetLemmatizer\n"
   ]
  },
  {
   "cell_type": "code",
   "execution_count": 3,
   "id": "5231bf1e-3c39-43a0-969b-6d3c9faf00de",
   "metadata": {},
   "outputs": [],
   "source": [
    "df = pd.read_csv('cleaned_data.csv')"
   ]
  },
  {
   "cell_type": "code",
   "execution_count": 4,
   "id": "5cd294c9-6b14-4e64-8b9e-d634fcb7037b",
   "metadata": {},
   "outputs": [
    {
     "data": {
      "text/html": [
       "<div>\n",
       "<style scoped>\n",
       "    .dataframe tbody tr th:only-of-type {\n",
       "        vertical-align: middle;\n",
       "    }\n",
       "\n",
       "    .dataframe tbody tr th {\n",
       "        vertical-align: top;\n",
       "    }\n",
       "\n",
       "    .dataframe thead th {\n",
       "        text-align: right;\n",
       "    }\n",
       "</style>\n",
       "<table border=\"1\" class=\"dataframe\">\n",
       "  <thead>\n",
       "    <tr style=\"text-align: right;\">\n",
       "      <th></th>\n",
       "      <th>Book Name</th>\n",
       "      <th>Author</th>\n",
       "      <th>Description</th>\n",
       "      <th>Rating</th>\n",
       "      <th>Number of Reviews</th>\n",
       "      <th>Price</th>\n",
       "      <th>Listening Time (Minutes)</th>\n",
       "      <th>Rank</th>\n",
       "      <th>Genre</th>\n",
       "    </tr>\n",
       "  </thead>\n",
       "  <tbody>\n",
       "    <tr>\n",
       "      <th>0</th>\n",
       "      <td>Think Like a Monk: The Secret of How to Harnes...</td>\n",
       "      <td>Jay Shetty</td>\n",
       "      <td>Over the past three years, Jay Shetty has beco...</td>\n",
       "      <td>4.9</td>\n",
       "      <td>342.0</td>\n",
       "      <td>10080.0</td>\n",
       "      <td>654.0</td>\n",
       "      <td>1</td>\n",
       "      <td>Society &amp; Culture (Books)</td>\n",
       "    </tr>\n",
       "    <tr>\n",
       "      <th>1</th>\n",
       "      <td>Ikigai: The Japanese Secret to a Long and Happ...</td>\n",
       "      <td>Héctor García</td>\n",
       "      <td>Brought to you by Penguin.</td>\n",
       "      <td>4.6</td>\n",
       "      <td>3670.0</td>\n",
       "      <td>615.0</td>\n",
       "      <td>203.0</td>\n",
       "      <td>2</td>\n",
       "      <td>Personal Success</td>\n",
       "    </tr>\n",
       "    <tr>\n",
       "      <th>2</th>\n",
       "      <td>The Subtle Art of Not Giving a F*ck: A Counter...</td>\n",
       "      <td>Mark Manson</td>\n",
       "      <td>In this generation-defining self-help guide, a...</td>\n",
       "      <td>4.4</td>\n",
       "      <td>20240.0</td>\n",
       "      <td>10378.0</td>\n",
       "      <td>317.0</td>\n",
       "      <td>3</td>\n",
       "      <td>Personal Development &amp; Self-Help</td>\n",
       "    </tr>\n",
       "    <tr>\n",
       "      <th>3</th>\n",
       "      <td>Atomic Habits: An Easy and Proven Way to Build...</td>\n",
       "      <td>James Clear</td>\n",
       "      <td>Brought to you by Penguin.</td>\n",
       "      <td>4.6</td>\n",
       "      <td>4646.0</td>\n",
       "      <td>888.0</td>\n",
       "      <td>335.0</td>\n",
       "      <td>5</td>\n",
       "      <td>Personal Success</td>\n",
       "    </tr>\n",
       "    <tr>\n",
       "      <th>4</th>\n",
       "      <td>Life's Amazing Secrets: How to Find Balance an...</td>\n",
       "      <td>Gaur Gopal Das</td>\n",
       "      <td>Stop going through life,  Start growing throug...</td>\n",
       "      <td>4.6</td>\n",
       "      <td>4305.0</td>\n",
       "      <td>1005.0</td>\n",
       "      <td>385.0</td>\n",
       "      <td>6</td>\n",
       "      <td>Spiritualism</td>\n",
       "    </tr>\n",
       "  </tbody>\n",
       "</table>\n",
       "</div>"
      ],
      "text/plain": [
       "                                           Book Name          Author  \\\n",
       "0  Think Like a Monk: The Secret of How to Harnes...      Jay Shetty   \n",
       "1  Ikigai: The Japanese Secret to a Long and Happ...   Héctor García   \n",
       "2  The Subtle Art of Not Giving a F*ck: A Counter...     Mark Manson   \n",
       "3  Atomic Habits: An Easy and Proven Way to Build...     James Clear   \n",
       "4  Life's Amazing Secrets: How to Find Balance an...  Gaur Gopal Das   \n",
       "\n",
       "                                         Description  Rating  \\\n",
       "0  Over the past three years, Jay Shetty has beco...     4.9   \n",
       "1                         Brought to you by Penguin.     4.6   \n",
       "2  In this generation-defining self-help guide, a...     4.4   \n",
       "3                         Brought to you by Penguin.     4.6   \n",
       "4  Stop going through life,  Start growing throug...     4.6   \n",
       "\n",
       "   Number of Reviews    Price  Listening Time (Minutes)  Rank  \\\n",
       "0              342.0  10080.0                     654.0     1   \n",
       "1             3670.0    615.0                     203.0     2   \n",
       "2            20240.0  10378.0                     317.0     3   \n",
       "3             4646.0    888.0                     335.0     5   \n",
       "4             4305.0   1005.0                     385.0     6   \n",
       "\n",
       "                              Genre  \n",
       "0         Society & Culture (Books)  \n",
       "1                  Personal Success  \n",
       "2  Personal Development & Self-Help  \n",
       "3                  Personal Success  \n",
       "4                      Spiritualism  "
      ]
     },
     "execution_count": 4,
     "metadata": {},
     "output_type": "execute_result"
    }
   ],
   "source": [
    "df.head()"
   ]
  },
  {
   "cell_type": "code",
   "execution_count": 5,
   "id": "77e343d1-4192-40e7-b72e-577f56b1edd7",
   "metadata": {},
   "outputs": [
    {
     "name": "stdout",
     "output_type": "stream",
     "text": [
      "<class 'pandas.core.frame.DataFrame'>\n",
      "RangeIndex: 1642 entries, 0 to 1641\n",
      "Data columns (total 9 columns):\n",
      " #   Column                    Non-Null Count  Dtype  \n",
      "---  ------                    --------------  -----  \n",
      " 0   Book Name                 1642 non-null   object \n",
      " 1   Author                    1642 non-null   object \n",
      " 2   Description               1642 non-null   object \n",
      " 3   Rating                    1642 non-null   float64\n",
      " 4   Number of Reviews         1642 non-null   float64\n",
      " 5   Price                     1642 non-null   float64\n",
      " 6   Listening Time (Minutes)  1642 non-null   float64\n",
      " 7   Rank                      1642 non-null   int64  \n",
      " 8   Genre                     1642 non-null   object \n",
      "dtypes: float64(4), int64(1), object(4)\n",
      "memory usage: 115.6+ KB\n"
     ]
    }
   ],
   "source": [
    "df.info()"
   ]
  },
  {
   "cell_type": "code",
   "execution_count": 6,
   "id": "e89dbfad-b2b6-4398-a685-71c7baea16f5",
   "metadata": {},
   "outputs": [
    {
     "data": {
      "text/plain": [
       "0"
      ]
     },
     "execution_count": 6,
     "metadata": {},
     "output_type": "execute_result"
    }
   ],
   "source": [
    "df.duplicated().sum()"
   ]
  },
  {
   "cell_type": "code",
   "execution_count": 7,
   "id": "3293317d-18db-4d29-b37a-9a6f872ddb1f",
   "metadata": {},
   "outputs": [
    {
     "data": {
      "text/plain": [
       "Book Name                   0\n",
       "Author                      0\n",
       "Description                 0\n",
       "Rating                      0\n",
       "Number of Reviews           0\n",
       "Price                       0\n",
       "Listening Time (Minutes)    0\n",
       "Rank                        0\n",
       "Genre                       0\n",
       "dtype: int64"
      ]
     },
     "execution_count": 7,
     "metadata": {},
     "output_type": "execute_result"
    }
   ],
   "source": [
    "df.isnull().sum()"
   ]
  },
  {
   "cell_type": "code",
   "execution_count": 8,
   "id": "9d904a8c-ed0b-4238-88e1-205cfd2e0e9f",
   "metadata": {},
   "outputs": [],
   "source": [
    "# Initialize stopwords & lemmatizer\n",
    "stop_words = set(stopwords.words('english'))\n",
    "lemmatizer = WordNetLemmatizer()\n",
    "\n",
    "def preprocess_text(text):\n",
    "\n",
    "    tokens = word_tokenize(text)  # Tokenize words\n",
    "    tokens = [lemmatizer.lemmatize(word) for word in tokens if word not in stop_words]  # Lemmatization & stopword removal\n",
    "    return \" \".join(tokens)\n",
    "    \n",
    "# Apply preprocessing\n",
    "df['Processed_Description'] = df['Description'].apply(preprocess_text)\n",
    "\n",
    "   "
   ]
  },
  {
   "cell_type": "code",
   "execution_count": 9,
   "id": "ee63cff7-c8a4-4120-acce-fb309ebe9052",
   "metadata": {},
   "outputs": [
    {
     "data": {
      "text/html": [
       "<div>\n",
       "<style scoped>\n",
       "    .dataframe tbody tr th:only-of-type {\n",
       "        vertical-align: middle;\n",
       "    }\n",
       "\n",
       "    .dataframe tbody tr th {\n",
       "        vertical-align: top;\n",
       "    }\n",
       "\n",
       "    .dataframe thead th {\n",
       "        text-align: right;\n",
       "    }\n",
       "</style>\n",
       "<table border=\"1\" class=\"dataframe\">\n",
       "  <thead>\n",
       "    <tr style=\"text-align: right;\">\n",
       "      <th></th>\n",
       "      <th>Description</th>\n",
       "      <th>Processed_Description</th>\n",
       "    </tr>\n",
       "  </thead>\n",
       "  <tbody>\n",
       "    <tr>\n",
       "      <th>0</th>\n",
       "      <td>Over the past three years, Jay Shetty has beco...</td>\n",
       "      <td>Over past three year , Jay Shetty become one w...</td>\n",
       "    </tr>\n",
       "    <tr>\n",
       "      <th>1</th>\n",
       "      <td>Brought to you by Penguin.</td>\n",
       "      <td>Brought Penguin .</td>\n",
       "    </tr>\n",
       "    <tr>\n",
       "      <th>2</th>\n",
       "      <td>In this generation-defining self-help guide, a...</td>\n",
       "      <td>In generation-defining self-help guide , super...</td>\n",
       "    </tr>\n",
       "    <tr>\n",
       "      <th>3</th>\n",
       "      <td>Brought to you by Penguin.</td>\n",
       "      <td>Brought Penguin .</td>\n",
       "    </tr>\n",
       "    <tr>\n",
       "      <th>4</th>\n",
       "      <td>Stop going through life,  Start growing throug...</td>\n",
       "      <td>Stop going life , Start growing life !</td>\n",
       "    </tr>\n",
       "  </tbody>\n",
       "</table>\n",
       "</div>"
      ],
      "text/plain": [
       "                                         Description  \\\n",
       "0  Over the past three years, Jay Shetty has beco...   \n",
       "1                         Brought to you by Penguin.   \n",
       "2  In this generation-defining self-help guide, a...   \n",
       "3                         Brought to you by Penguin.   \n",
       "4  Stop going through life,  Start growing throug...   \n",
       "\n",
       "                               Processed_Description  \n",
       "0  Over past three year , Jay Shetty become one w...  \n",
       "1                                  Brought Penguin .  \n",
       "2  In generation-defining self-help guide , super...  \n",
       "3                                  Brought Penguin .  \n",
       "4             Stop going life , Start growing life !  "
      ]
     },
     "execution_count": 9,
     "metadata": {},
     "output_type": "execute_result"
    }
   ],
   "source": [
    "# Check cleaned text\n",
    "df[['Description', 'Processed_Description']].head(5)"
   ]
  },
  {
   "cell_type": "code",
   "execution_count": 10,
   "id": "1368ed03-b435-447a-9f30-fdc66a7fa2e1",
   "metadata": {},
   "outputs": [],
   "source": [
    "## Vectorizing text using TF-IDF\n",
    "tfidf_vectorizer = TfidfVectorizer(max_features=1000)\n",
    "tfidf_matrix = tfidf_vectorizer.fit_transform(df['Processed_Description'])"
   ]
  },
  {
   "cell_type": "code",
   "execution_count": 11,
   "id": "f1613dd3-513d-4d6d-b371-4812dd06fa5a",
   "metadata": {},
   "outputs": [],
   "source": [
    "# K-Means clustering\n",
    "kmeans = KMeans(n_clusters=5, random_state=42)\n",
    "df['cluster'] = kmeans.fit_predict(tfidf_matrix)\n"
   ]
  },
  {
   "cell_type": "code",
   "execution_count": 12,
   "id": "7b41e284-03b0-43bc-9e2c-0d6ba73c285a",
   "metadata": {},
   "outputs": [
    {
     "name": "stdout",
     "output_type": "stream",
     "text": [
      "Original TF-IDF Shape: (1642, 1000)\n",
      "Reduced Shape: (1642, 2)\n"
     ]
    }
   ],
   "source": [
    "# Reducing Dimensions with PCA\n",
    "pca = PCA(n_components=2) \n",
    "tfidf_reduced = pca.fit_transform(tfidf_matrix.toarray())\n",
    "\n",
    "print(\"Original TF-IDF Shape:\", tfidf_matrix.shape)\n",
    "print(\"Reduced Shape:\", tfidf_reduced.shape)"
   ]
  },
  {
   "cell_type": "code",
   "execution_count": 13,
   "id": "3b025d7b-4a05-4964-bb71-0f80f775acb9",
   "metadata": {},
   "outputs": [
    {
     "data": {
      "image/png": "[encoded data removed]",
      "text/plain": [
       "<Figure size 1000x600 with 1 Axes>"
      ]
     },
     "metadata": {},
     "output_type": "display_data"
    }
   ],
   "source": [
    "# Visualizing the clusters\n",
    "plt.figure(figsize=(10,6))\n",
    "sns.scatterplot(x=tfidf_reduced[:, 0], y=tfidf_reduced[:, 1], hue=df['cluster'], palette='Set1')\n",
    "plt.title('Book Clusters based on Descriptions')\n",
    "plt.show()"
   ]
  },
  {
   "cell_type": "code",
   "execution_count": 14,
   "id": "3c000600-16ec-41a2-88f2-ca88e8a45609",
   "metadata": {},
   "outputs": [
    {
     "data": {
      "text/html": [
       "<div>\n",
       "<style scoped>\n",
       "    .dataframe tbody tr th:only-of-type {\n",
       "        vertical-align: middle;\n",
       "    }\n",
       "\n",
       "    .dataframe tbody tr th {\n",
       "        vertical-align: top;\n",
       "    }\n",
       "\n",
       "    .dataframe thead th {\n",
       "        text-align: right;\n",
       "    }\n",
       "</style>\n",
       "<table border=\"1\" class=\"dataframe\">\n",
       "  <thead>\n",
       "    <tr style=\"text-align: right;\">\n",
       "      <th></th>\n",
       "      <th>Book Name</th>\n",
       "      <th>Author</th>\n",
       "      <th>Description</th>\n",
       "      <th>Rating</th>\n",
       "      <th>Number of Reviews</th>\n",
       "      <th>Price</th>\n",
       "      <th>Listening Time (Minutes)</th>\n",
       "      <th>Rank</th>\n",
       "      <th>Genre</th>\n",
       "      <th>Processed_Description</th>\n",
       "      <th>cluster</th>\n",
       "    </tr>\n",
       "  </thead>\n",
       "  <tbody>\n",
       "    <tr>\n",
       "      <th>0</th>\n",
       "      <td>Think Like a Monk: The Secret of How to Harnes...</td>\n",
       "      <td>Jay Shetty</td>\n",
       "      <td>Over the past three years, Jay Shetty has beco...</td>\n",
       "      <td>4.9</td>\n",
       "      <td>342.0</td>\n",
       "      <td>10080.0</td>\n",
       "      <td>654.0</td>\n",
       "      <td>1</td>\n",
       "      <td>Society &amp; Culture (Books)</td>\n",
       "      <td>Over past three year , Jay Shetty become one w...</td>\n",
       "      <td>1</td>\n",
       "    </tr>\n",
       "    <tr>\n",
       "      <th>1</th>\n",
       "      <td>Ikigai: The Japanese Secret to a Long and Happ...</td>\n",
       "      <td>Héctor García</td>\n",
       "      <td>Brought to you by Penguin.</td>\n",
       "      <td>4.6</td>\n",
       "      <td>3670.0</td>\n",
       "      <td>615.0</td>\n",
       "      <td>203.0</td>\n",
       "      <td>2</td>\n",
       "      <td>Personal Success</td>\n",
       "      <td>Brought Penguin .</td>\n",
       "      <td>2</td>\n",
       "    </tr>\n",
       "    <tr>\n",
       "      <th>2</th>\n",
       "      <td>The Subtle Art of Not Giving a F*ck: A Counter...</td>\n",
       "      <td>Mark Manson</td>\n",
       "      <td>In this generation-defining self-help guide, a...</td>\n",
       "      <td>4.4</td>\n",
       "      <td>20240.0</td>\n",
       "      <td>10378.0</td>\n",
       "      <td>317.0</td>\n",
       "      <td>3</td>\n",
       "      <td>Personal Development &amp; Self-Help</td>\n",
       "      <td>In generation-defining self-help guide , super...</td>\n",
       "      <td>1</td>\n",
       "    </tr>\n",
       "    <tr>\n",
       "      <th>3</th>\n",
       "      <td>Atomic Habits: An Easy and Proven Way to Build...</td>\n",
       "      <td>James Clear</td>\n",
       "      <td>Brought to you by Penguin.</td>\n",
       "      <td>4.6</td>\n",
       "      <td>4646.0</td>\n",
       "      <td>888.0</td>\n",
       "      <td>335.0</td>\n",
       "      <td>5</td>\n",
       "      <td>Personal Success</td>\n",
       "      <td>Brought Penguin .</td>\n",
       "      <td>2</td>\n",
       "    </tr>\n",
       "    <tr>\n",
       "      <th>4</th>\n",
       "      <td>Life's Amazing Secrets: How to Find Balance an...</td>\n",
       "      <td>Gaur Gopal Das</td>\n",
       "      <td>Stop going through life,  Start growing throug...</td>\n",
       "      <td>4.6</td>\n",
       "      <td>4305.0</td>\n",
       "      <td>1005.0</td>\n",
       "      <td>385.0</td>\n",
       "      <td>6</td>\n",
       "      <td>Spiritualism</td>\n",
       "      <td>Stop going life , Start growing life !</td>\n",
       "      <td>1</td>\n",
       "    </tr>\n",
       "  </tbody>\n",
       "</table>\n",
       "</div>"
      ],
      "text/plain": [
       "                                           Book Name          Author  \\\n",
       "0  Think Like a Monk: The Secret of How to Harnes...      Jay Shetty   \n",
       "1  Ikigai: The Japanese Secret to a Long and Happ...   Héctor García   \n",
       "2  The Subtle Art of Not Giving a F*ck: A Counter...     Mark Manson   \n",
       "3  Atomic Habits: An Easy and Proven Way to Build...     James Clear   \n",
       "4  Life's Amazing Secrets: How to Find Balance an...  Gaur Gopal Das   \n",
       "\n",
       "                                         Description  Rating  \\\n",
       "0  Over the past three years, Jay Shetty has beco...     4.9   \n",
       "1                         Brought to you by Penguin.     4.6   \n",
       "2  In this generation-defining self-help guide, a...     4.4   \n",
       "3                         Brought to you by Penguin.     4.6   \n",
       "4  Stop going through life,  Start growing throug...     4.6   \n",
       "\n",
       "   Number of Reviews    Price  Listening Time (Minutes)  Rank  \\\n",
       "0              342.0  10080.0                     654.0     1   \n",
       "1             3670.0    615.0                     203.0     2   \n",
       "2            20240.0  10378.0                     317.0     3   \n",
       "3             4646.0    888.0                     335.0     5   \n",
       "4             4305.0   1005.0                     385.0     6   \n",
       "\n",
       "                              Genre  \\\n",
       "0         Society & Culture (Books)   \n",
       "1                  Personal Success   \n",
       "2  Personal Development & Self-Help   \n",
       "3                  Personal Success   \n",
       "4                      Spiritualism   \n",
       "\n",
       "                               Processed_Description  cluster  \n",
       "0  Over past three year , Jay Shetty become one w...        1  \n",
       "1                                  Brought Penguin .        2  \n",
       "2  In generation-defining self-help guide , super...        1  \n",
       "3                                  Brought Penguin .        2  \n",
       "4             Stop going life , Start growing life !        1  "
      ]
     },
     "execution_count": 14,
     "metadata": {},
     "output_type": "execute_result"
    }
   ],
   "source": [
    "df.head()"
   ]
  },
  {
   "cell_type": "code",
   "execution_count": 15,
   "id": "94a08492-1c93-42d5-b1da-1a9035b39f58",
   "metadata": {},
   "outputs": [
    {
     "data": {
      "text/plain": [
       "Index(['Book Name', 'Author', 'Description', 'Rating', 'Number of Reviews',\n",
       "       'Price', 'Listening Time (Minutes)', 'Rank', 'Genre',\n",
       "       'Processed_Description', 'cluster'],\n",
       "      dtype='object')"
      ]
     },
     "execution_count": 15,
     "metadata": {},
     "output_type": "execute_result"
    }
   ],
   "source": [
    "df.columns"
   ]
  },
  {
   "cell_type": "code",
   "execution_count": 18,
   "id": "592f50c2-ae35-4b22-a475-5ccbfe6b834e",
   "metadata": {},
   "outputs": [],
   "source": [
    "df.drop(columns = ['Description'], inplace = True)"
   ]
  },
  {
   "cell_type": "code",
   "execution_count": 19,
   "id": "637043c3-ae32-48ec-8996-76b776412500",
   "metadata": {},
   "outputs": [
    {
     "name": "stdout",
     "output_type": "stream",
     "text": [
      "<class 'pandas.core.frame.DataFrame'>\n",
      "RangeIndex: 1642 entries, 0 to 1641\n",
      "Data columns (total 10 columns):\n",
      " #   Column                    Non-Null Count  Dtype  \n",
      "---  ------                    --------------  -----  \n",
      " 0   Book Name                 1642 non-null   object \n",
      " 1   Author                    1642 non-null   object \n",
      " 2   Rating                    1642 non-null   float64\n",
      " 3   Number of Reviews         1642 non-null   float64\n",
      " 4   Price                     1642 non-null   float64\n",
      " 5   Listening Time (Minutes)  1642 non-null   float64\n",
      " 6   Rank                      1642 non-null   int64  \n",
      " 7   Genre                     1642 non-null   object \n",
      " 8   Processed_Description     1642 non-null   object \n",
      " 9   cluster                   1642 non-null   int32  \n",
      "dtypes: float64(4), int32(1), int64(1), object(4)\n",
      "memory usage: 122.0+ KB\n"
     ]
    }
   ],
   "source": [
    "df.info()"
   ]
  },
  {
   "cell_type": "code",
   "execution_count": 21,
   "id": "ebf8246d-1ef6-480e-aad8-c5c446ac369a",
   "metadata": {},
   "outputs": [],
   "source": [
    "df.to_csv(\"books_clusters.csv\", index=False)"
   ]
  }
 ],
 "metadata": {
  "kernelspec": {
   "display_name": "Python 3 (ipykernel)",
   "language": "python",
   "name": "python3"
  },
  "language_info": {
   "codemirror_mode": {
    "name": "ipython",
    "version": 3
   },
   "file_extension": ".py",
   "mimetype": "text/x-python",
   "name": "python",
   "nbconvert_exporter": "python",
   "pygments_lexer": "ipython3",
   "version": "3.12.4"
  }
 },
 "nbformat": 4,
 "nbformat_minor": 5
}
